{
 "cells": [
  {
   "cell_type": "markdown",
   "metadata": {},
   "source": [
    "# Tutorial 6: Motion planning\n",
    "\n",
    "In this tutorial, we are going to plan some trajectories of the robot in the 2-D task space. And then, we are going to will use the tools that we have built in the previous tutorials to manipulate the robot accordingly.\n",
    "\n",
    "Motion planning takes place in both task space and the C-space. Usually, it tries to find a smooth path from the starting position to some target positions. "
   ]
  },
  {
   "cell_type": "markdown",
   "metadata": {},
   "source": [
    "Outline of this tutorial\n",
    "\n",
    "1. Polynomial interpolation \n",
    "2. Planning the polynomial trajectory \n",
    "3. Execute the trajectory (no coding required)"
   ]
  },
  {
   "cell_type": "markdown",
   "metadata": {},
   "source": [
    "Loading some code from the previous tutorials."
   ]
  },
  {
   "cell_type": "code",
   "execution_count": null,
   "metadata": {},
   "outputs": [],
   "source": [
    "import numpy as np\n",
    "import matplotlib.pyplot as plt\n",
    "from celluloid import Camera\n",
    "from IPython.display import HTML\n",
    "\n",
    "class ThreeLinkArm:\n",
    "    \n",
    "    def __init__(self):\n",
    "        # Set parameters for the 3-link planar arm\n",
    "        self.theta1 = np.deg2rad(0)\n",
    "        self.theta2 = np.deg2rad(90)\n",
    "        self.theta3 = np.deg2rad(90)\n",
    "        self.l1 = 5\n",
    "        self.l2 = 3\n",
    "        self.l3 = 2\n",
    "\n",
    "    def forwardKinematics(self, theta1, theta2, theta3):\n",
    "        # Define the homogeneous transformation matrices for the 3-link planar arm\n",
    "        self.theta1 = theta1\n",
    "        self.theta2 = theta2\n",
    "        self.theta3 = theta3\n",
    "        self.t01 = np.matrix([[np.cos(self.theta1), -np.sin(self.theta1), 0], [np.sin(self.theta1), np.cos(self.theta1), 0], [0, 0, 1]])\n",
    "        self.t12 = np.matrix([[np.cos(self.theta2), -np.sin(self.theta2), self.l1], [np.sin(self.theta2), np.cos(self.theta2), 0], [0, 0, 1]])\n",
    "        self.t23 = np.matrix([[np.cos(self.theta3), -np.sin(self.theta3), self.l2], [np.sin(self.theta3), np.cos(self.theta3), 0], [0, 0, 1]])        \n",
    "        self.t3end = np.matrix([[np.cos(self.theta3), -np.sin(self.theta3), self.l3], [np.sin(self.theta3), np.cos(self.theta3), 0], [0, 0, 1]])\n",
    "        self.t0end = self.t01*self.t12*self.t23*self.t3end\n",
    "        return self.t0end\n",
    "    \n",
    "    def findJointPos(self): \n",
    "        # Find the x,y position of each joint and end effector so it can be plotted\n",
    "        # Find the transformation matrices for joint 2 and joint 3\n",
    "        self.t02 = self.t01*self.t12\n",
    "        self.t03 = self.t01*self.t12*self.t23\n",
    "        # Find the x, y coordinates for joints 2 and 3. Put them in a list j2 = [x,y]\n",
    "        j2 = [ self.t02[0, 2], self.t02[1, 2] ]\n",
    "        j3 = [ self.t03[0, 2], self.t03[1, 2] ]\n",
    "        endeff = [self.t0end[0,2],self.t0end[1,2]]\n",
    "        \n",
    "        self.jnt2pos, self.jnt3pos, self.endEffPos = j2,j3,endeff\n",
    "        return j2,j3,endeff\n",
    "    \n",
    "    def geomJacobian(self, jnt2pos=None, jnt3pos=None, endEffPos=None):\n",
    "        if jnt2pos is None:\n",
    "            jnt2pos=self.jnt2pos \n",
    "        if jnt3pos is None:\n",
    "            jnt3pos=self.jnt3pos\n",
    "        if endEffPos is None:\n",
    "            endEffPos=self.endEffPos\n",
    "        ai = np.array([0,0,1])\n",
    "        col0 = np.array(endEffPos + [0])\n",
    "        col1 = np.array(endEffPos + [0]) - np.array(jnt2pos + [0])\n",
    "        col2 = np.array(endEffPos + [0]) - np.array(jnt3pos + [0])\n",
    "        J = np.array([np.cross(ai,col0), np.cross(ai,col1), np.cross(ai,col2)]).T \n",
    "        return J\n",
    "\n",
    "def plotArm(jnt2pos, jnt3pos, endEffectPos, target=None, step=None):\n",
    "    # set up figure\n",
    "    fig = plt.figure(figsize=(4,4))\n",
    "    ax = fig.add_subplot(111, autoscale_on=False, xlim=(-10, 10), ylim=(-10, 10))\n",
    "    ax.grid()\n",
    "    \n",
    "    if step is not None:\n",
    "        step = np.array(step)\n",
    "        plt.scatter(step[:, 0],step[:, 1], color='lightblue', marker='o')\n",
    "        plt.plot(step[:, 0],step[:, 1], color='lightblue')\n",
    "    if target is not None:\n",
    "        target = np.array(target)\n",
    "        plt.scatter(target[:, 0],target[:, 1], color='red', marker='o')\n",
    "        \n",
    "    line, = ax.plot([], [], 'o-', lw=4, mew=5)\n",
    "    time_text = ax.text(0.02, 0.95, '', transform=ax.transAxes)\n",
    "\n",
    "    line.set_data([], [])\n",
    "    time_text.set_text('')\n",
    "    x = np.array([0, jnt2pos[0], jnt3pos[0], endEffectPos[0]])\n",
    "    y = np.array([0, jnt2pos[1], jnt3pos[1], endEffectPos[1]])\n",
    "    line.set_data((x,y))\n",
    "    \n",
    "    plt.show()\n",
    "    \n",
    "# gif animation plotter\n",
    "def plotArm2(jnt2pos, jnt3pos, endEffectPos, target=None, step=None, fig=None, camera=None):\n",
    "    # set up figure\n",
    "    ax = fig.add_subplot(111, autoscale_on=False,\n",
    "                         xlim=(-10, 10), ylim=(-10, 10))\n",
    "    ax.grid()\n",
    "    line, = ax.plot([], [], 'o-', lw=4, mew=5, color='lightblue')\n",
    "    time_text = ax.text(0.02, 0.95, '', transform=ax.transAxes)\n",
    "\n",
    "    line.set_data([], [])\n",
    "    time_text.set_text('')\n",
    "    x = np.array([0, jnt2pos[0], jnt3pos[0], endEffectPos[0]])\n",
    "    y = np.array([0, jnt2pos[1], jnt3pos[1], endEffectPos[1]])\n",
    "    line.set_data((x,y))\n",
    "    \n",
    "    if step is not None:\n",
    "        step = np.array(step)\n",
    "        plt.scatter(step[:, 0],step[:, 1], color='lightblue', marker='o')\n",
    "        plt.plot(step[:, 0],step[:, 1], color='lightblue')\n",
    "    if target is not None:\n",
    "        target = np.array(target)\n",
    "        plt.scatter(target[:, 0],target[:, 1], color='red', marker='o')\n",
    "\n",
    "    camera.snap()"
   ]
  },
  {
   "cell_type": "markdown",
   "metadata": {},
   "source": [
    "# Part 1:  Polynomial interpolation "
   ]
  },
  {
   "cell_type": "markdown",
   "metadata": {},
   "source": [
    "Given there are $n+1$ points $(x_1, y_1), (x_2, y_2), \\ldots, (x_n, y_n), (x_n+1, y_n+1)$ with distinct $x_i$ values, we want to fit a polynomial, $f$, that passes through those points, i.e. for each point $x_i$, there is $f(x_i) = y_i$. For example, there are 5 points:"
   ]
  },
  {
   "cell_type": "markdown",
   "metadata": {},
   "source": [
    "<img src=\"images/points.png\" style=\"width:300px\"/>"
   ]
  },
  {
   "cell_type": "markdown",
   "metadata": {},
   "source": [
    "By the theorem of interpolation, there exists a unique polynomial of degree at most $n$ under the assumptions above. Se, lets fit a polynomial of degree 4."
   ]
  },
  {
   "cell_type": "markdown",
   "metadata": {},
   "source": [
    "<img src=\"images/points_interp.png\" style=\"width:300px\"/>"
   ]
  },
  {
   "cell_type": "markdown",
   "metadata": {},
   "source": [
    "The answer is $f(x) = -75 + 81 x  + -29.25 x^2 + 4.5 x^3 - 0.25 x^4$"
   ]
  },
  {
   "cell_type": "code",
   "execution_count": null,
   "metadata": {},
   "outputs": [],
   "source": [
    "np.polyfit(np.array([2,3,4,5,6]),np.array([2,6,5,5,6]),4) \n",
    "# Note: the coefficients are in the order of the highest order to the lowest order. "
   ]
  },
  {
   "cell_type": "code",
   "execution_count": null,
   "metadata": {},
   "outputs": [],
   "source": [
    "f = lambda x: np.hstack([np.ones((x.shape[0], 1)), x, x**2, x**3, x**4])\n",
    "plot_x = np.arange(1.8, 6.2, 0.01)[:, None]\n",
    "plot_y = f(plot_x) @ np.flipud(np.array([-0.25, 4.5, -29.25, 81., -75.]))\n",
    "\n",
    "plt.figure(figsize=(6,4))\n",
    "plt.plot(plot_x, plot_y)\n",
    "plt.scatter(np.array([2,3,4,5,6]),np.array([2,6,5,5,6])) \n",
    "plt.show()"
   ]
  },
  {
   "cell_type": "markdown",
   "metadata": {},
   "source": [
    "Therefore, in the upcoming exercises, let's use $N-1$ order polynomial for interpolating the $N$ points. Assume the input values $x$ are unique."
   ]
  },
  {
   "cell_type": "markdown",
   "metadata": {},
   "source": [
    "# Part 2: Trajectory planning"
   ]
  },
  {
   "cell_type": "markdown",
   "metadata": {},
   "source": [
    "In this part, let's plan some simple polynomial trajectories in the work space. "
   ]
  },
  {
   "cell_type": "markdown",
   "metadata": {},
   "source": [
    "First, setup a simple environment with the arm manipulator and four intermediate interpolation points."
   ]
  },
  {
   "cell_type": "code",
   "execution_count": null,
   "metadata": {},
   "outputs": [],
   "source": [
    "np.set_printoptions(precision = 2) \n",
    "np.set_printoptions(suppress = True) # remove exponential notation\n",
    "\n",
    "# Setup our new manipulator\n",
    "arm = ThreeLinkArm()\n",
    "\n",
    "# define the initial configuration of the manipulator (you are welcomed to try other values)\n",
    "initTheta = [np.deg2rad(0),np.deg2rad(45),np.deg2rad(-45)]\n",
    "\n",
    "# Initialise the arm with the initial values\n",
    "_ = arm.forwardKinematics(*initTheta)\n",
    "\n",
    "# Get the initial end-effector position \n",
    "init_joint2pos, init_joint3pos, EF_init_pos = arm.findJointPos()\n",
    "\n",
    "# Define the target postions of the end-effector\n",
    "EF_target_pos = np.array([[EF_init_pos[0], 6.,2.,-4.,-8.],\n",
    "                          [EF_init_pos[1], -6.,-7.,-5.,-1.]]).T\n",
    "\n",
    "# Plot the pose of the arm\n",
    "plotArm(*arm.findJointPos(), target=EF_target_pos)\n",
    "print(f\"The interpolation points are stored in the variable \\\"EF_target_pos\\\": \\n{EF_target_pos}\")"
   ]
  },
  {
   "cell_type": "markdown",
   "metadata": {},
   "source": [
    "#### Now, let's interpolate the trajectory of the end-effector using the polynomials, you can use numpy.polyfit() function here or any other method that you would prefer."
   ]
  },
  {
   "cell_type": "code",
   "execution_count": null,
   "metadata": {},
   "outputs": [],
   "source": [
    "# Interpolate the polynomial \n",
    "### START YOUR CODE HERE\n",
    "pol = None # fix me!\n",
    "### END OF YOUR CODE\n",
    "assert pol is not None, \"Please interpolate the polynomial above.\""
   ]
  },
  {
   "cell_type": "code",
   "execution_count": null,
   "metadata": {},
   "outputs": [],
   "source": [
    "# Plotting the planned trajectory\n",
    "xx = np.linspace(EF_target_pos[0, 0], EF_target_pos[-1, 0], 20)\n",
    "yy = np.polyval(pol,xx)   \n",
    "\n",
    "epsilon = 1e-2\n",
    "xx = np.arange(EF_target_pos[0,0],EF_target_pos[-1,0], -epsilon)\n",
    "yy = np.polyval(pol,xx)   \n",
    "curve = np.hstack([xx[:, None], yy[:, None]]) \n",
    "total_arc_length = np.sum(np.linalg.norm(curve[:-1, None] - curve[1:, None], axis=1))\n",
    "\n",
    "interpolation_threshold = 0.8\n",
    "interpolated_points = np.array([curve[0, :]])\n",
    "\n",
    "# Extract the interpolation points with the same arc lengths\n",
    "last_point = curve[0, :]\n",
    "for p in curve[1:, :]:\n",
    "    if np.linalg.norm(p - interpolated_points[-1, :]) > interpolation_threshold:\n",
    "        interpolated_points = np.vstack([interpolated_points, last_point])\n",
    "    last_point = p\n",
    "interpolated_points = np.vstack([interpolated_points, curve[-1, :]])    \n",
    "\n",
    "plotArm(*arm.findJointPos(), target=EF_target_pos, step=interpolated_points)\n",
    "print(f\"The intermediate points are stored in the variable \\\"interpolated_points\\\"\")"
   ]
  },
  {
   "cell_type": "markdown",
   "metadata": {},
   "source": [
    "# Part 3: Executing the planned motion\n",
    "\n",
    "No coding required here. But make sure you are using the correct variables. By running the code below, you should see a GIF image of the planned motion."
   ]
  },
  {
   "cell_type": "code",
   "execution_count": null,
   "metadata": {
    "scrolled": false
   },
   "outputs": [],
   "source": [
    "# set the current E-F position for the IK loop\n",
    "joint2pos, joint3pos, endEffectorPos = init_joint2pos, init_joint3pos, EF_init_pos\n",
    "# set the initial robot configuration\n",
    "newTheta = initTheta\n",
    "\n",
    "# Set up the animation generator\n",
    "fig = plt.figure(figsize=(4,4))\n",
    "camera = Camera(fig)\n",
    "\n",
    "for i in range(interpolated_points.shape[0]):\n",
    "    J = arm.geomJacobian()\n",
    "    \n",
    "    newgoal = interpolated_points[i, :]\n",
    "    deltaStep = newgoal - endEffectorPos\n",
    "    subtarget = np.array([deltaStep[0], deltaStep[1], 0]) \n",
    "\n",
    "    radTheta = np.linalg.pinv(J) @ subtarget\n",
    "    newTheta = newTheta + radTheta\n",
    "\n",
    "    # ----------- Do forward kinematics to plot the arm ---------------\n",
    "    _ = arm.forwardKinematics(newTheta[0],newTheta[1],newTheta[2])\n",
    "    joint2pos, joint3pos, endEffectorPos = arm.findJointPos()\n",
    "    plotArm2(joint2pos, joint3pos, endEffectorPos, target=EF_target_pos, fig=fig, camera=camera)\n",
    "\n",
    "plt.close()\n",
    "animation = camera.animate()\n",
    "animation.save('animated_motion.gif', writer = 'imagemagick')\n",
    "\n",
    "# show the animation\n",
    "from IPython.display import HTML\n",
    "HTML('<img src=\"animated_motion.gif\">')\n",
    "# Ignore the warning message"
   ]
  },
  {
   "cell_type": "code",
   "execution_count": null,
   "metadata": {},
   "outputs": [],
   "source": []
  }
 ],
 "metadata": {
  "kernelspec": {
   "display_name": "Python 3",
   "language": "python",
   "name": "python3"
  },
  "language_info": {
   "codemirror_mode": {
    "name": "ipython",
    "version": 3
   },
   "file_extension": ".py",
   "mimetype": "text/x-python",
   "name": "python",
   "nbconvert_exporter": "python",
   "pygments_lexer": "ipython3",
   "version": "3.6.12"
  }
 },
 "nbformat": 4,
 "nbformat_minor": 2
}
