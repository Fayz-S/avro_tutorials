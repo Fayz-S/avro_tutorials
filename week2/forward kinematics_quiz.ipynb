{
 "cells": [
  {
   "cell_type": "markdown",
   "metadata": {},
   "source": [
    "# Tutorial 2: Forward Kinematics\n",
    "\n",
    "Welcome to Tutorial 2, where we will be looking at the Forward Kinematics (FK). This tutorial looks at the forward kinematics of a simple serial-chain robot. Note that,\n",
    "* Forward kinematics: Finding the position and orientation of the end-effector relative to the base given the angles of all the joints.\n",
    "* Inverse kinematics: Finding the values of the joint angles given the position and orientation of the end-effector relative to the base. "
   ]
  },
  {
   "cell_type": "markdown",
   "metadata": {},
   "source": [
    "## Import Packages\n"
   ]
  },
  {
   "cell_type": "code",
   "execution_count": 1,
   "metadata": {},
   "outputs": [],
   "source": [
    "import numpy as np\n",
    "import matplotlib.pyplot as plt"
   ]
  },
  {
   "cell_type": "markdown",
   "metadata": {},
   "source": [
    "## Homogeneous Transformation Matrix\n",
    "\n",
    "One key element in deriving the kinematics of a serial-chain manipulator is the homogeneous transformation matrix. We use this matrix to conveniently group the rotation and translation of a frame into a single matrix form: \n",
    "<br/> \n",
    "<br/> \n",
    "$$\n",
    "T =\n",
    "\\left(\\begin{array}{cc}\n",
    "R & p \\\\\n",
    "0_{1x3} & 1\n",
    "\\end{array}\\right) \n",
    "=\n",
    "\\left(\\begin{array}{cc}\n",
    "r_{11} & r_{12} & r_{13} & x \\\\\n",
    "r_{21} & r_{22} & r_{23} & y \\\\\n",
    "r_{31} & r_{32} & r_{33} & z \\\\\n",
    "0 & 0 & 0 & 1\n",
    "\\end{array}\\right) \n",
    "$$\n",
    "\n",
    "<br/>\n",
    "For example, the homogeneous transform could be used when defining the the vector $^AP$ which describes a point relative to frame {A} using the known pose or transform between frames {A} to {B} and knowing the vector $^BP$."
   ]
  },
  {
   "cell_type": "markdown",
   "metadata": {},
   "source": [
    "<img src=\"images/frames.png\" style=\"width: 600px;\">"
   ]
  },
  {
   "cell_type": "markdown",
   "metadata": {},
   "source": [
    "Without our homogeneous transformation matrix, this relationship would be described as:\n",
    "<br/>\n",
    "<br/>\n",
    "<center>$^AP = {^A}R_B {^BP} + {^A}P_{BORG}$ </center>\n",
    "\n",
    "But using the transformation matrix this relationship can be concisely written as:\n",
    "<br/> \n",
    "<br/> \n",
    "<center>$$\n",
    "\\left(\\begin{array}{c}\n",
    "^AP \\\\\n",
    "1\n",
    "\\end{array}\\right) \n",
    " = {^A}T_B \n",
    "\\left(\\begin{array}{c}\n",
    "{^BP} \\\\\n",
    "1\n",
    "\\end{array}\\right) \n",
    "$$ </center>\n",
    "<br/>\n",
    "Where $^AP$ and $^BP$ are two vectors with positions known relative to frames {A} and {B} respectively.\n",
    "<br/> \n",
    "<br/> "
   ]
  },
  {
   "cell_type": "markdown",
   "metadata": {},
   "source": [
    "## 3-Link Planar Manipulator\n",
    "Below is the 3-link planar manipulator whose forward kinematics we will be implementing. The lengths of links 1, 2 and 3 are $L_1, L_2$ and $L_3$. The rotation about each of the three joints are ${\\theta}_1, {\\theta}_2$ and ${\\theta}_3$. The **link 0** is the fixed base, e.g. the ground. The **end-effector** is the manipulator attached at the end of the robot which is the black gripper, see the diagrams below."
   ]
  },
  {
   "cell_type": "markdown",
   "metadata": {},
   "source": [
    "<table>\n",
    "    <tr>\n",
    "        <td><img src=\"images/3-link-angles.png\" style=\"width: 300px;\"> </td>\n",
    "        <td><img src=\"images/3-link-frames.png\" style=\"width: 280px;\"> </td>\n",
    "    </tr>\n",
    "    <tr>\n",
    "        <td style=\"text-align:center\">Diagram of the links and joints</td>\n",
    "        <td style=\"text-align:center\">Diagram of the frames</td>\n",
    "    </tr>\n",
    "</table>"
   ]
  },
  {
   "cell_type": "markdown",
   "metadata": {},
   "source": [
    "### Tasks:\n",
    "1. Calculate the homogeneous transform matrice \n",
    "    * From frame {0} to {1} (no translation, rotation only)\n",
    "    * From frame {1} to {2}\n",
    "    * From frame {2} to {3}\n",
    "2. Then, use the homogeneous transform matrice from (1), calculate the homogeneous transform matrix from the base (frame {0}) to the end-effector.\n",
    "3. Ultimately, use the matrice from (1) and (2), implement a function that determines the x-y coordinate of each frame & the end-effector under the fixed frame {0}.\n",
    "\n",
    "The tool you may find useful: \n",
    "\n",
    "    1. The 2-D homogeneous transform matrix is in the form of:\n",
    "$$\n",
    "T =\n",
    "\\left(\\begin{array}{cc}\n",
    "R & p \\\\\n",
    "0_{1x2} & 1\n",
    "\\end{array}\\right) \n",
    "=\n",
    "\\left(\\begin{array}{cc}\n",
    "r_{11} & r_{12}  & x \\\\\n",
    "r_{21} & r_{22}  & y \\\\\n",
    "0 & 0 & 1\n",
    "\\end{array}\\right) \n",
    "$$\n",
    "\n",
    "    2. The 2D rotation matrix $R$ parametrised with rotation angle $\\theta$ is defined as:\n",
    "\n",
    "$$\n",
    "R\n",
    "=\n",
    "\\left(\\begin{array}{cc}\n",
    "cos(\\theta) & -sin(\\theta) \\\\\n",
    "sin(\\theta) & cos(\\theta) \\\\\n",
    "\\end{array}\\right) \n",
    "$$\n"
   ]
  },
  {
   "cell_type": "markdown",
   "metadata": {},
   "source": [
    "### Forward Kinematics"
   ]
  },
  {
   "cell_type": "code",
   "execution_count": 2,
   "metadata": {},
   "outputs": [],
   "source": [
    "class ThreeLinkArm:\n",
    "    \n",
    "    def __init__(self):\n",
    "        # Set parameters for the 3-link planar arm\n",
    "        \n",
    "        self.theta1 = np.deg2rad(0)\n",
    "        self.theta2 = np.deg2rad(90)\n",
    "        self.theta3 = np.deg2rad(90)\n",
    "        self.l1 = 5\n",
    "        self.l2 = 3\n",
    "        self.l3 = 2\n",
    "\n",
    "    def forwardKinematics(self, theta1, theta2, theta3):\n",
    "        # Define the homogeneous transformation matrices for the 3-link planar arm\n",
    "        \n",
    "        self.theta1 = theta1\n",
    "        self.theta2 = theta2\n",
    "        self.theta3 = theta3\n",
    "\n",
    "        self.t01 = np.matrix([[np.cos(self.theta1), -np.sin(self.theta1), 0],\n",
    "                        [np.sin(self.theta1), np.cos(self.theta1), 0],\n",
    "                        [0, 0, 1]])\n",
    "        \n",
    "        # Implement the transformation matrix from frame {1} to frame {2}\n",
    "        ### START CODE HERE ###\n",
    "        self.t12 = None # fix me!\n",
    "        ### END CODE HERE ###\n",
    "\n",
    "\n",
    "        self.t23 = np.matrix([[np.cos(self.theta3), -np.sin(self.theta3), self.l2],\n",
    "                        [np.sin(self.theta3), np.cos(self.theta3), 0],\n",
    "                        [0, 0, 1]])\n",
    "        \n",
    "        # Implement the transformation matrix from frame {3} to the tip of the end-effector\n",
    "        ### START CODE HERE ###\n",
    "        self.t3end = None # fix me!\n",
    "        ### END CODE HERE ###\n",
    "        \n",
    "        self.t0end = self.t01*self.t12*self.t23*self.t3end\n",
    "        \n",
    "        return self.t0end\n",
    "    \n",
    "    def findJointPos(self): \n",
    "        # Find the x,y position of each joint and end effector so it can be plotted\n",
    "        \n",
    "        # Find the transformation matrices for joint 2 and joint 3\n",
    "        ### START CODE HERE ###\n",
    "        t02 = None # fix me!\n",
    "        t03 = None # fix me!\n",
    "        ### END CODE HERE ###\n",
    "        \n",
    "        # Find the x, y coordinates for joints 2 and 3. Put them in a list j2 = [x,y]\n",
    "        ### START CODE HERE ###\n",
    "        j2 = None # fix me!\n",
    "        j3 = None # fix me!\n",
    "        ### END CODE HERE ###\n",
    "        \n",
    "        endeff = [self.t0end[0,2],self.t0end[1,2]]\n",
    "        \n",
    "        return j2,j3,endeff\n",
    "        \n",
    "\n",
    "def plotArm(jnt2pos, jnt3pos, endEffectPos, target=np.array([0,0])):\n",
    "    # set up figure\n",
    "    fig = plt.figure(figsize=(4,4))\n",
    "    ax = fig.add_subplot(111, autoscale_on=False,\n",
    "                         xlim=(-10, 10), ylim=(-10, 10))\n",
    "    ax.grid()\n",
    "\n",
    "    plt.plot(target[0],target[1],'or')\n",
    "    line, = ax.plot([], [], 'o-', lw=4, mew=5)\n",
    "    time_text = ax.text(0.02, 0.95, '', transform=ax.transAxes)\n",
    "\n",
    "    line.set_data([], [])\n",
    "    time_text.set_text('')\n",
    "    x = np.array([0, jnt2pos[0], jnt3pos[0], endEffectPos[0]])\n",
    "    y = np.array([0, jnt2pos[1], jnt3pos[1], endEffectPos[1]])\n",
    "    line.set_data((x,y))\n",
    "\n",
    "    plt.show()"
   ]
  },
  {
   "cell_type": "code",
   "execution_count": 3,
   "metadata": {},
   "outputs": [
    {
     "ename": "TypeError",
     "evalue": "unsupported operand type(s) for *: 'float' and 'NoneType'",
     "output_type": "error",
     "traceback": [
      "\u001b[0;31m---------------------------------------------------------------------------\u001b[0m",
      "\u001b[0;31mTypeError\u001b[0m                                 Traceback (most recent call last)",
      "\u001b[0;32m<ipython-input-3-e924899e8a96>\u001b[0m in \u001b[0;36m<module>\u001b[0;34m()\u001b[0m\n\u001b[1;32m      2\u001b[0m \u001b[0;34m\u001b[0m\u001b[0m\n\u001b[1;32m      3\u001b[0m \u001b[0;31m# Do forward kinematics for a set angle on each joint\u001b[0m\u001b[0;34m\u001b[0m\u001b[0;34m\u001b[0m\u001b[0;34m\u001b[0m\u001b[0m\n\u001b[0;32m----> 4\u001b[0;31m \u001b[0mT\u001b[0m \u001b[0;34m=\u001b[0m \u001b[0marm\u001b[0m\u001b[0;34m.\u001b[0m\u001b[0mforwardKinematics\u001b[0m\u001b[0;34m(\u001b[0m\u001b[0mnp\u001b[0m\u001b[0;34m.\u001b[0m\u001b[0mdeg2rad\u001b[0m\u001b[0;34m(\u001b[0m\u001b[0;36m45\u001b[0m\u001b[0;34m)\u001b[0m\u001b[0;34m,\u001b[0m\u001b[0mnp\u001b[0m\u001b[0;34m.\u001b[0m\u001b[0mdeg2rad\u001b[0m\u001b[0;34m(\u001b[0m\u001b[0;36m45\u001b[0m\u001b[0;34m)\u001b[0m\u001b[0;34m,\u001b[0m\u001b[0mnp\u001b[0m\u001b[0;34m.\u001b[0m\u001b[0mdeg2rad\u001b[0m\u001b[0;34m(\u001b[0m\u001b[0;34m-\u001b[0m\u001b[0;36m45\u001b[0m\u001b[0;34m)\u001b[0m\u001b[0;34m)\u001b[0m\u001b[0;34m\u001b[0m\u001b[0;34m\u001b[0m\u001b[0m\n\u001b[0m\u001b[1;32m      5\u001b[0m \u001b[0;34m\u001b[0m\u001b[0m\n\u001b[1;32m      6\u001b[0m \u001b[0;31m# Find the x,y coordinates of joints 2, 3 and end effector so they can be plotted\u001b[0m\u001b[0;34m\u001b[0m\u001b[0;34m\u001b[0m\u001b[0;34m\u001b[0m\u001b[0m\n",
      "\u001b[0;32m<ipython-input-2-1a6deceb35a7>\u001b[0m in \u001b[0;36mforwardKinematics\u001b[0;34m(self, theta1, theta2, theta3)\u001b[0m\n\u001b[1;32m     37\u001b[0m         \u001b[0;31m### END CODE HERE ###\u001b[0m\u001b[0;34m\u001b[0m\u001b[0;34m\u001b[0m\u001b[0;34m\u001b[0m\u001b[0m\n\u001b[1;32m     38\u001b[0m \u001b[0;34m\u001b[0m\u001b[0m\n\u001b[0;32m---> 39\u001b[0;31m         \u001b[0mself\u001b[0m\u001b[0;34m.\u001b[0m\u001b[0mt0end\u001b[0m \u001b[0;34m=\u001b[0m \u001b[0mself\u001b[0m\u001b[0;34m.\u001b[0m\u001b[0mt01\u001b[0m\u001b[0;34m*\u001b[0m\u001b[0mself\u001b[0m\u001b[0;34m.\u001b[0m\u001b[0mt12\u001b[0m\u001b[0;34m*\u001b[0m\u001b[0mself\u001b[0m\u001b[0;34m.\u001b[0m\u001b[0mt23\u001b[0m\u001b[0;34m*\u001b[0m\u001b[0mself\u001b[0m\u001b[0;34m.\u001b[0m\u001b[0mt3end\u001b[0m\u001b[0;34m\u001b[0m\u001b[0;34m\u001b[0m\u001b[0m\n\u001b[0m\u001b[1;32m     40\u001b[0m \u001b[0;34m\u001b[0m\u001b[0m\n\u001b[1;32m     41\u001b[0m         \u001b[0;32mreturn\u001b[0m \u001b[0mself\u001b[0m\u001b[0;34m.\u001b[0m\u001b[0mt0end\u001b[0m\u001b[0;34m\u001b[0m\u001b[0;34m\u001b[0m\u001b[0m\n",
      "\u001b[0;32m/home/steve/.local/lib/python3.6/site-packages/numpy/matrixlib/defmatrix.py\u001b[0m in \u001b[0;36m__mul__\u001b[0;34m(self, other)\u001b[0m\n\u001b[1;32m    218\u001b[0m             \u001b[0;32mreturn\u001b[0m \u001b[0mN\u001b[0m\u001b[0;34m.\u001b[0m\u001b[0mdot\u001b[0m\u001b[0;34m(\u001b[0m\u001b[0mself\u001b[0m\u001b[0;34m,\u001b[0m \u001b[0masmatrix\u001b[0m\u001b[0;34m(\u001b[0m\u001b[0mother\u001b[0m\u001b[0;34m)\u001b[0m\u001b[0;34m)\u001b[0m\u001b[0;34m\u001b[0m\u001b[0;34m\u001b[0m\u001b[0m\n\u001b[1;32m    219\u001b[0m         \u001b[0;32mif\u001b[0m \u001b[0misscalar\u001b[0m\u001b[0;34m(\u001b[0m\u001b[0mother\u001b[0m\u001b[0;34m)\u001b[0m \u001b[0;32mor\u001b[0m \u001b[0;32mnot\u001b[0m \u001b[0mhasattr\u001b[0m\u001b[0;34m(\u001b[0m\u001b[0mother\u001b[0m\u001b[0;34m,\u001b[0m \u001b[0;34m'__rmul__'\u001b[0m\u001b[0;34m)\u001b[0m \u001b[0;34m:\u001b[0m\u001b[0;34m\u001b[0m\u001b[0;34m\u001b[0m\u001b[0m\n\u001b[0;32m--> 220\u001b[0;31m             \u001b[0;32mreturn\u001b[0m \u001b[0mN\u001b[0m\u001b[0;34m.\u001b[0m\u001b[0mdot\u001b[0m\u001b[0;34m(\u001b[0m\u001b[0mself\u001b[0m\u001b[0;34m,\u001b[0m \u001b[0mother\u001b[0m\u001b[0;34m)\u001b[0m\u001b[0;34m\u001b[0m\u001b[0;34m\u001b[0m\u001b[0m\n\u001b[0m\u001b[1;32m    221\u001b[0m         \u001b[0;32mreturn\u001b[0m \u001b[0mNotImplemented\u001b[0m\u001b[0;34m\u001b[0m\u001b[0;34m\u001b[0m\u001b[0m\n\u001b[1;32m    222\u001b[0m \u001b[0;34m\u001b[0m\u001b[0m\n",
      "\u001b[0;32m<__array_function__ internals>\u001b[0m in \u001b[0;36mdot\u001b[0;34m(*args, **kwargs)\u001b[0m\n",
      "\u001b[0;31mTypeError\u001b[0m: unsupported operand type(s) for *: 'float' and 'NoneType'"
     ]
    }
   ],
   "source": [
    "arm = ThreeLinkArm()\n",
    "\n",
    "# Do forward kinematics for a set angle on each joint\n",
    "T = arm.forwardKinematics(np.deg2rad(45),np.deg2rad(45),np.deg2rad(-45))\n",
    "\n",
    "# Find the x,y coordinates of joints 2, 3 and end effector so they can be plotted\n",
    "joint2pos, joint3pos, endEffectorPos = arm.findJointPos()\n",
    "\n",
    "# Print joint + end effector positions\n",
    "print(\"Homogeneous matrix from base to end effector: \\n\" + str(T))\n",
    "print(\"Joint 3 Coordinates: \" + str(joint3pos))\n",
    "print(\"End effector Coordinates: \" + str(endEffectorPos))\n",
    "\n",
    "# Plot the pose of the arm\n",
    "plotArm(joint2pos, joint3pos, endEffectorPos)"
   ]
  },
  {
   "cell_type": "code",
   "execution_count": null,
   "metadata": {},
   "outputs": [],
   "source": []
  }
 ],
 "metadata": {
  "kernelspec": {
   "display_name": "Python 3",
   "language": "python",
   "name": "python3"
  },
  "language_info": {
   "codemirror_mode": {
    "name": "ipython",
    "version": 3
   },
   "file_extension": ".py",
   "mimetype": "text/x-python",
   "name": "python",
   "nbconvert_exporter": "python",
   "pygments_lexer": "ipython3",
   "version": "3.6.9"
  }
 },
 "nbformat": 4,
 "nbformat_minor": 2
}
