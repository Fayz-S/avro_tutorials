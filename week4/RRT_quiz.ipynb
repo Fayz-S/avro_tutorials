{
 "cells": [
  {
   "cell_type": "markdown",
   "metadata": {},
   "source": [
    "# Tutorial 4: Manipulation with RRT\n",
    "\n",
    "In this tutorial, we are going to plan some configuration space (C-space) trajectories of the robot. And then, we are going to discuss the RRT method together with the IK method that we have covered in the previous tutorial."
   ]
  },
  {
   "cell_type": "markdown",
   "metadata": {},
   "source": [
    "# Rapidly-Exploring Random Trees (RRT)"
   ]
  },
  {
   "cell_type": "markdown",
   "metadata": {},
   "source": [
    "## Import Packages and some code"
   ]
  },
  {
   "cell_type": "code",
   "execution_count": 1,
   "metadata": {},
   "outputs": [],
   "source": [
    "import random\n",
    "import numpy as np\n",
    "import matplotlib.pyplot as plt\n",
    "from celluloid import Camera\n",
    "from IPython.display import HTML\n",
    "import warnings\n",
    "warnings.filterwarnings('ignore')\n",
    "%matplotlib notebook\n",
    "\n",
    "# code from the preivous tutorial\n",
    "class TwoLinkArm:\n",
    "    \n",
    "    def __init__(self):\n",
    "        # Set parameters for the 2-link planar arm\n",
    "        \n",
    "        self.theta1 = np.deg2rad(0)\n",
    "        self.theta2 = np.deg2rad(90)\n",
    "        self.l1 = 5\n",
    "        self.l2 = 3\n",
    "\n",
    "    def forwardKinematics(self, theta1, theta2):\n",
    "        # Define the homogeneous transformation matrices for the 2-link planar arm\n",
    "        self.theta1 = theta1\n",
    "        self.theta2 = theta2\n",
    "\n",
    "        self.t01 = np.matrix([[np.cos(self.theta1), -np.sin(self.theta1), 0],\n",
    "                        [np.sin(self.theta1), np.cos(self.theta1), 0],\n",
    "                        [0, 0, 1]])\n",
    "        self.t12 = np.matrix([[np.cos(self.theta2), -np.sin(self.theta2), self.l1],\n",
    "                              [np.sin(self.theta2),  np.cos(self.theta2), 0],\n",
    "                              [0, 0, 1]])\n",
    "        self.t3end = np.matrix([[1, 0, self.l2], \n",
    "                                [0, 1, 0], \n",
    "                                [0, 0, 1]])\n",
    "        self.t0end = self.t01*self.t12*self.t3end\n",
    "        \n",
    "        # Find the transformation matrices for joint 2 and joint 3\n",
    "        t02 = self.t01*self.t12\n",
    "        \n",
    "        # Find the x, y coordinates for joints 2. Put them in a list j2 = [x,y]\n",
    "        j2 = [t02[0,2],t02[1,2]]\n",
    "        \n",
    "        endeff = [self.t0end[0,2],self.t0end[1,2]]\n",
    "        return j2,endeff\n",
    "    \n",
    "# gif animation plotter\n",
    "def plotArm2_2link(jnt2pos, endEffectPos, target=None, step=None, fig=None, camera=None):\n",
    "    # set up figure\n",
    "    ax = fig.add_subplot(111, autoscale_on=False,\n",
    "                         xlim=(-10, 10), ylim=(-10, 10))\n",
    "    ax.grid()\n",
    "    line, = ax.plot([], [], 'o-', lw=4, mew=5, color='lightblue')\n",
    "\n",
    "    if step is not None:\n",
    "        step = np.array(step)\n",
    "        plt.scatter(step[:, 0],step[:, 1], color='blue', marker='o')\n",
    "        plt.plot(step[:, 0],step[:, 1], color='blue')\n",
    "    if target is not None:\n",
    "        target = np.array(target)\n",
    "        plt.scatter(target[:, 0],target[:, 1], color='red', marker='o')\n",
    "    \n",
    "    line.set_data([], [])\n",
    "    x = np.array([0, jnt2pos[0], endEffectPos[0]])\n",
    "    y = np.array([0, jnt2pos[1], endEffectPos[1]])\n",
    "    line.set_data((x,y))\n",
    "\n",
    "    camera.snap()"
   ]
  },
  {
   "cell_type": "markdown",
   "metadata": {},
   "source": [
    "## RRT Algorithm\n",
    "Rapidly-Exploring Randoms Trees (RRT) is a sampling-based planning algorithm which makes use of probabilistic methods and a roadmap. The roadmap shown below is created by RRT and represents a network of potential obstacle free paths through the environment. The main advantage of RRT in comparison to algorithms such as A* is the use of random sampling which greatly reduces computational cost when analysing the map. A limitation of this approach is that computed paths are non-optimal, due to the random sampling of nodes.\n",
    "\n",
    "The graph or roadmap below is an abstract representation of a set of objects or nodes/vertices connected by links or edges. The edges can be directed, in this case the starting point is $q_1$. A sequence of connected edges is a path. "
   ]
  },
  {
   "cell_type": "markdown",
   "metadata": {},
   "source": [
    "## RRT Pseudocode"
   ]
  },
  {
   "cell_type": "markdown",
   "metadata": {},
   "source": [
    "<img src=\"images/rrt_qnear.png\" style=\"width: 250px;\">"
   ]
  },
  {
   "cell_type": "markdown",
   "metadata": {},
   "source": [
    "<img src=\"images/rrt_pseudo.png\" style=\"width: 700px;\">"
   ]
  },
  {
   "cell_type": "markdown",
   "metadata": {},
   "source": [
    "Inputs: \n",
    "* Initial configuration/position $q_{init}$\n",
    "* Number of nodes, K. In our case we use a while loop until one of the nodes is within a certain radius of the goal.\n",
    "* Incremental distance or step size $\\Delta q$\n",
    "\n",
    "Looping until target is reached:\n",
    "1. A random configuration $q_{rand}$ is chosen. $q_{rand}$ is discarded if it lies within an obstacle.\n",
    "2. The closest node/vertex $q_{near}$ is found. Near being defined in terms of a cost function that includes distance and orientation. $q_{near}$ will not be added to the graph if the path from $q_{near}$ to $q_{rand}$ intersects an obstacle. \n",
    "3. The point $q_{new}$ is added, which is the distance the robot can move in a fixed path towards $q_{rand}$ from $q_{near}$."
   ]
  },
  {
   "cell_type": "markdown",
   "metadata": {},
   "source": [
    "## Voronoi Bias\n",
    "In the Voronoi diagram below we can see each cell or region corresponds to a site within the cell and consists of all points that are closer to its site than to any other site. The edges of the cells are the points that are equidistant to the two nearest sites. \n",
    "\n",
    "A key property of the RRT algorithm is that it uses what we call a \"Voronoi bias\" in the exploration process by expanding the node in the tree that is closest ($q_{near}$) to the random point ($q_{rand}$) at each iteration. By using random samples, the probability that a vertex/node is chosen is proportional to the volume of its Voronoi region. This encourages tree growth to the larger unexplored regions. "
   ]
  },
  {
   "cell_type": "markdown",
   "metadata": {},
   "source": [
    "<img src=\"images/voronoi.png\" style=\"width: 350px;\">"
   ]
  },
  {
   "cell_type": "markdown",
   "metadata": {},
   "source": [
    "<img src=\"images/rrt_tree.gif\" style=\"width: 400px;\">"
   ]
  },
  {
   "cell_type": "markdown",
   "metadata": {},
   "source": [
    "### Define RRT Class (no coding needed)"
   ]
  },
  {
   "cell_type": "code",
   "execution_count": 2,
   "metadata": {},
   "outputs": [],
   "source": [
    "#Global starting configuration\n",
    "start = (np.deg2rad(45), np.deg2rad(45))\n",
    "#Global target configuration\n",
    "target = (np.deg2rad(-135), np.deg2rad(10))"
   ]
  },
  {
   "cell_type": "code",
   "execution_count": 3,
   "metadata": {},
   "outputs": [],
   "source": [
    "#Global configuration\n",
    "RADIUS_OBSTACLE = np.deg2rad(5)\n",
    "RADIUS_TARGET = np.deg2rad(25)\n",
    "RRT_EXTEND_DIST = np.deg2rad(25)\n",
    "SMOOTHING_ITERATIONS = 200\n",
    "SMOOTHING_STEP = 0.1\n",
    "\n",
    "#Global robot joint limits configuration\n",
    "JOINT1_LIM = np.array([-np.pi+np.deg2rad(30), np.pi-np.deg2rad(30)])\n",
    "JOINT2_LIM = np.array([-np.pi+np.deg2rad(30), np.pi-np.deg2rad(30)])\n",
    "\n",
    "class RRT():\n",
    "    def __init__(self):\n",
    "        # circle obstacles list [(theta_1, theta_2, theta_3)]\n",
    "        self.obstacles = []\n",
    "        # tree nodes list [((theta_1, theta_2, theta_3), parent_index)]\n",
    "        self.nodes = [(start, None)]\n",
    "        \n",
    "    #Add a line of obstacles between the two given points\n",
    "    def generate_obstacles_line(self, q1, q2):\n",
    "        q1, q2 = np.array(q1), np.array(q2)\n",
    "        length = np.linalg.norm(q2-q1)\n",
    "        vect = (q2 - q1)/length\n",
    "        for l in np.arange(0.0, length, 1.9*RADIUS_OBSTACLE):\n",
    "            self.obstacles += [(q1[0]+l*vect[0], q1[1]+l*vect[1])]\n",
    "\n",
    "    #Return True if the given point is colliding \n",
    "    def check_point_collision(self, q):\n",
    "        for o in self.obstacles:\n",
    "            dist = np.sqrt(np.power(q[0]-o[0], 2) + np.power(q[1]-o[1], 2))\n",
    "            if dist <= RADIUS_OBSTACLE:\n",
    "                return True\n",
    "        return False\n",
    "\n",
    "    #Return True if the segment between the two \n",
    "    #given points is colliding the obstacles\n",
    "    def check_segment_collision(self, q1, q2):\n",
    "        q1, q2 = np.array(q1), np.array(q2)\n",
    "        length = np.linalg.norm(q2-q1)\n",
    "        vect = (q2 - q1)/length\n",
    "        for l in np.arange(0.0, length, 0.6*RADIUS_OBSTACLE):\n",
    "            q = (q1[0]+l*vect[0], q1[1]+l*vect[1])\n",
    "            if self.check_point_collision(q):\n",
    "                return True\n",
    "        return False\n",
    "\n",
    "    #Return a random point in the working space\n",
    "    def sample_point(self):\n",
    "        theta1 = random.uniform(-np.pi, np.pi)\n",
    "        theta2 = random.uniform(-np.pi, np.pi)\n",
    "        return (theta1,theta2)\n",
    "\n",
    "    #Return the index of the closest node in RRT from given point\n",
    "    def find_nearest_neighbour(self, q):\n",
    "        index = 0\n",
    "        dist_min = float('inf')\n",
    "        for (i, n) in enumerate(self.nodes):\n",
    "            dist = np.sqrt(np.power(q[0]-n[0][0], 2) + np.power(q[1]-n[0][1], 2))\n",
    "            if dist < dist_min:\n",
    "                dist_min = dist;\n",
    "                index = i\n",
    "        return index\n",
    "    \n",
    "    def find_new_reachable_pt(self, q_sample, q_near):\n",
    "        \n",
    "        dist = np.sqrt(np.power(q_sample[0]- q_near[0], 2) + np.power(q_sample[1]- q_near[1], 2))\n",
    "        if dist > RRT_EXTEND_DIST:\n",
    "            q_normalized_x = q_near[0] + RRT_EXTEND_DIST*(q_sample[0]- q_near[0])/dist\n",
    "            q_normalized_y = q_near[1] + RRT_EXTEND_DIST*(q_sample[1]- q_near[1])/dist\n",
    "        else:\n",
    "            q_normalized_x = q_sample[0]\n",
    "            q_normalized_y = q_sample[1]\n",
    "        q_new = (q_normalized_x, q_normalized_y)\n",
    "\n",
    "        return q_new\n",
    "    "
   ]
  },
  {
   "cell_type": "markdown",
   "metadata": {},
   "source": [
    "### Implementation of the RRT Algorithm\n",
    "\n",
    "Assume we have a faulty 2-arm manipulator that cannot reach some configurations. Below, we are creating such C-space with some unreachable areas. \n",
    "\n",
    "The unreachable area will be illustrated using blue circles."
   ]
  },
  {
   "cell_type": "code",
   "execution_count": 4,
   "metadata": {},
   "outputs": [],
   "source": [
    "rrt_plan = RRT()\n",
    "\n",
    "# Define non-reachable configuration areas\n",
    "rrt_plan.generate_obstacles_line((JOINT1_LIM[0], JOINT2_LIM[0]), (JOINT1_LIM[0], JOINT2_LIM[1]))\n",
    "rrt_plan.generate_obstacles_line((JOINT1_LIM[1], JOINT2_LIM[0]), (JOINT1_LIM[1], JOINT2_LIM[1]))\n",
    "rrt_plan.generate_obstacles_line((JOINT1_LIM[0], JOINT2_LIM[0]), (JOINT1_LIM[1], JOINT2_LIM[0]))\n",
    "rrt_plan.generate_obstacles_line((JOINT1_LIM[0], JOINT2_LIM[1]), (JOINT1_LIM[1], JOINT2_LIM[1]))\n",
    "rrt_plan.generate_obstacles_line((-0.8, -0.1), (-1.1, 1.8))\n",
    "rrt_plan.generate_obstacles_line((1, -1.), (-1.1, 1.8))\n",
    "rrt_plan.generate_obstacles_line((-0.8, -0.1), (1, -1.))\n",
    "\n",
    "#Sample and grow the RRT until target is reached\n",
    "is_reached = False\n",
    "while not is_reached:\n",
    "    \n",
    "    # Sample a new point  \n",
    "    q_sample = rrt_plan.sample_point()\n",
    "    \n",
    "    # Check that the new point is collision free\n",
    "    if not rrt_plan.check_point_collision(q_sample):\n",
    "\n",
    "        # Find the index of the nearest node (q_near) in the graph    \n",
    "        index = rrt_plan.find_nearest_neighbour(q_sample)\n",
    "        q_near = rrt_plan.nodes[index][0]\n",
    "\n",
    "        # Find the closest feasible point to the randomly sampled point (q_new)\n",
    "        q_new = rrt_plan.find_new_reachable_pt(q_sample, q_near)\n",
    "        \n",
    "        # Check if the edge is collision free\n",
    "        if not rrt_plan.check_segment_collision(q_new, q_near):\n",
    "        \n",
    "            rrt_plan.nodes += [(q_new, index)]\n",
    "\n",
    "            # Check if the goal has been reached\n",
    "            if np.sqrt(np.power(q_new[0]-target[0], 2) + np.power(q_new[1]-target[1], 2)) < RADIUS_TARGET:\n",
    "                is_reached = True"
   ]
  },
  {
   "cell_type": "markdown",
   "metadata": {},
   "source": [
    "#### Extracting the planned path"
   ]
  },
  {
   "cell_type": "markdown",
   "metadata": {},
   "source": [
    "<img src=\"images/PATH_diag.png\" style=\"width:800px\">"
   ]
  },
  {
   "cell_type": "code",
   "execution_count": 7,
   "metadata": {},
   "outputs": [],
   "source": [
    "# Retrieve computed path from the tree\n",
    "# (get the path from the target, by traversing the list in the reversed order.)\n",
    "path = []\n",
    "### START YOUR CODE HERE\n",
    "\n",
    "# remember to append the starting point\n",
    "\n",
    "### END YOU CODE HERE\n",
    "\n",
    "# Reversing the path to be correct.\n",
    "path.reverse()"
   ]
  },
  {
   "cell_type": "code",
   "execution_count": 8,
   "metadata": {},
   "outputs": [],
   "source": [
    "#Path smoothing\n",
    "for k in range(SMOOTHING_ITERATIONS):\n",
    "    index1 = random.randint(0, len(path)-1)\n",
    "    index2 = random.randint(0, len(path)-1)\n",
    "    if index1 != index2 \\\n",
    "        and not rrt_plan.check_segment_collision(path[index1], path[index2]) \\\n",
    "        and np.linalg.norm(np.array(path[index1]) - np.array(path[index2])) > 1.0:\n",
    "        if index1 < index2:\n",
    "            index_low = index1\n",
    "            index_up = index2\n",
    "        else:\n",
    "            index_low = index2\n",
    "            index_up = index1\n",
    "        middle = []\n",
    "        deltax = (path[index_up][0]-path[index_low][0])\n",
    "        deltay = (path[index_up][1]-path[index_low][1])\n",
    "        for l in np.arange(SMOOTHING_STEP, 1.0-SMOOTHING_STEP, SMOOTHING_STEP):\n",
    "            middle += [(path[index_low][0]+l*deltax, path[index_low][1]+l*deltay)]\n",
    "        path = path[:index_low+1] + middle + path[index_up:]"
   ]
  },
  {
   "cell_type": "markdown",
   "metadata": {},
   "source": [
    "Now, we have got the planned trajectory stored in the variable ``path``"
   ]
  },
  {
   "cell_type": "code",
   "execution_count": 9,
   "metadata": {},
   "outputs": [
    {
     "name": "stdout",
     "output_type": "stream",
     "text": [
      "the trajectory length is 28\n"
     ]
    }
   ],
   "source": [
    "print(f\"the trajectory length is {len(path)}\")"
   ]
  },
  {
   "cell_type": "markdown",
   "metadata": {},
   "source": [
    "### Plotting the RRT Roadmap"
   ]
  },
  {
   "cell_type": "code",
   "execution_count": 10,
   "metadata": {
    "scrolled": true
   },
   "outputs": [
    {
     "name": "stderr",
     "output_type": "stream",
     "text": [
      "MovieWriter imagemagick unavailable; using Pillow instead.\n"
     ]
    }
   ],
   "source": [
    "%matplotlib inline\n",
    "\n",
    "node_prog = np.linspace(7, len(rrt_plan.nodes), 10, int)\n",
    "\n",
    "fig = plt.figure(figsize=(4,4))\n",
    "plt.axis('scaled')\n",
    "plt.grid()\n",
    "plt.gcf().gca().set_xlim(tuple(JOINT1_LIM))\n",
    "plt.gcf().gca().set_ylim(tuple(JOINT2_LIM))\n",
    "camera = Camera(fig)\n",
    "\n",
    "# Plot growing tree\n",
    "for j in range(len(node_prog)): \n",
    "    \n",
    "    #Draw obstacles\n",
    "    for o in rrt_plan.obstacles:\n",
    "        circle = plt.Circle(o, RADIUS_OBSTACLE, color='b', fill=False)\n",
    "        plt.gcf().gca().add_artist(circle)\n",
    "\n",
    "    #Draw start and target points\n",
    "    circle_start_1 = plt.Circle(start, RADIUS_TARGET, color='g', alpha=0.5)\n",
    "    circle_start_2 = plt.Circle(start, RADIUS_OBSTACLE, color='g')\n",
    "    circle_target_1 = plt.Circle(target, RADIUS_TARGET, color='r', alpha=0.5)\n",
    "    circle_target_2 = plt.Circle(target, RADIUS_OBSTACLE, color='r')\n",
    "    plt.gcf().gca().add_artist(circle_start_1)\n",
    "    plt.gcf().gca().add_artist(circle_start_2)\n",
    "    plt.gcf().gca().add_artist(circle_target_1)\n",
    "    plt.gcf().gca().add_artist(circle_target_2)\n",
    "    \n",
    "    #Draw tree\n",
    "    for n in rrt_plan.nodes[0:int(node_prog[j])]:\n",
    "        if (n[1] != None):\n",
    "            x1 = n[0][0]\n",
    "            y1 = n[0][1]\n",
    "            parent = n[1]\n",
    "            x2 = rrt_plan.nodes[parent][0][0]\n",
    "            y2 = rrt_plan.nodes[parent][0][1]\n",
    "            plt.plot([x1, x2], [y1, y2], color='y', marker='.')\n",
    "    \n",
    "    # Final plot\n",
    "    if(j >= len(node_prog)-1):\n",
    "    \n",
    "        #Draw Path\n",
    "        for i in range(len(path)):\n",
    "            if i > 0:\n",
    "                plt.plot([path[i-1][0], path[i][0]], [path[i-1][1], path[i][1]], color='r', marker='.')\n",
    "    camera.snap()\n",
    "    \n",
    "plt.close()\n",
    "animation = camera.animate()\n",
    "animation.save('animated_RRT.gif', writer = 'imagemagick')"
   ]
  },
  {
   "cell_type": "code",
   "execution_count": 12,
   "metadata": {
    "scrolled": false
   },
   "outputs": [
    {
     "data": {
      "text/html": [
       "<img src=\"animated_RRT.gif?10937217\">"
      ],
      "text/plain": [
       "<IPython.core.display.HTML object>"
      ]
     },
     "metadata": {},
     "output_type": "display_data"
    }
   ],
   "source": [
    "# show the animation\n",
    "\n",
    "#random code to make sure the gif is reloaded (jupyter bug)\n",
    "import random\n",
    "__counter__ = random.randint(0,2e9)\n",
    "\n",
    "\n",
    "from IPython.display import HTML\n",
    "display(HTML('<img src=\"animated_RRT.gif?%d\">'% __counter__))"
   ]
  },
  {
   "cell_type": "markdown",
   "metadata": {},
   "source": [
    "### Manipulating the arm\n",
    "Now, let's manipulate our toy manipulator according to the planned RRT path. "
   ]
  },
  {
   "cell_type": "code",
   "execution_count": 13,
   "metadata": {
    "scrolled": false
   },
   "outputs": [
    {
     "name": "stderr",
     "output_type": "stream",
     "text": [
      "MovieWriter imagemagick unavailable; using Pillow instead.\n"
     ]
    },
    {
     "data": {
      "text/html": [
       "<img src=\"animated_RRT_arm.gif?869589845\">"
      ],
      "text/plain": [
       "<IPython.core.display.HTML object>"
      ]
     },
     "metadata": {},
     "output_type": "display_data"
    }
   ],
   "source": [
    "arm = TwoLinkArm()\n",
    "\n",
    "# Set up the animation generator\n",
    "fig = plt.figure(figsize=(4,4))\n",
    "camera = Camera(fig)\n",
    "\n",
    "EFTrace = []\n",
    "for (theta1, theta2) in path:\n",
    "    # Manipulate the arm using the 'arm' object\n",
    "    joint2pos, endEffectorPos = arm.forwardKinematics(theta1, theta2)\n",
    "    EFTrace += [endEffectorPos]\n",
    "    # Plot the pose of the arm\n",
    "    plotArm2_2link(joint2pos, endEffectorPos, target=None, step=EFTrace, fig=fig, camera=camera)\n",
    "    \n",
    "plt.close()\n",
    "animation = camera.animate()\n",
    "animation.save('animated_RRT_arm.gif', writer = 'imagemagick')\n",
    "\n",
    "# show the animation\n",
    "__counter__ = random.randint(0,2e9)\n",
    "display(HTML('<img src=\"animated_RRT_arm.gif?%d\">'% __counter__))"
   ]
  },
  {
   "cell_type": "markdown",
   "metadata": {},
   "source": [
    "Well done! There you have it, trajectory planning with RRT. \n",
    "\n",
    "Now, think of the following questions:\n",
    "\n",
    "1. What is the difference between \"the task space trajectory\" and \"the C-space trajectory\"?\n",
    "2. Continuing from (1), when are they prefered over the other one?\n",
    "\n",
    "To provide you with a reference, here is the IK manipulator from the early tutorial:"
   ]
  },
  {
   "cell_type": "markdown",
   "metadata": {},
   "source": [
    "<img src=\"images/animated_IK.gif\" style=\"width: 300px;\">"
   ]
  },
  {
   "cell_type": "markdown",
   "metadata": {},
   "source": [
    "Here is another example in 3-D: task space trajectory (left), C-space trajectory (right)"
   ]
  },
  {
   "cell_type": "markdown",
   "metadata": {},
   "source": [
    "<img src=\"images/trap_vs_poly.gif\" style=\"width: 450px;\">"
   ]
  },
  {
   "cell_type": "markdown",
   "metadata": {},
   "source": [
    "For extra information, e.g. the velocity profile, see in: https://blogs.mathworks.com/student-lounge/2019/11/06/robot-manipulator-trajectory/\n",
    "\n",
    "(You will find hits of the thinking questions above in this link)"
   ]
  },
  {
   "cell_type": "markdown",
   "metadata": {},
   "source": [
    "You are also welcomed to use this code to try with different initial/target positions. The goal of this tutorial is to give you a more concrete intuition of the RRT algorithm. If you are still, keen, try to write a generic RRT algorithm for planning in N-D C-spaces, based on the code provided here :)"
   ]
  },
  {
   "cell_type": "markdown",
   "metadata": {},
   "source": [
    "**References**\n",
    "\n",
    "Corke, P., 2017. Robotics, vision and control: fundamental algorithms in MATLAB® second, completely revised (Vol. 118). Springer.\n",
    "https://en.wikipedia.org/wiki/Rapidly-exploring_random_tree\n"
   ]
  }
 ],
 "metadata": {
  "kernelspec": {
   "display_name": "Python 3 (ipykernel)",
   "language": "python",
   "name": "python3"
  },
  "language_info": {
   "codemirror_mode": {
    "name": "ipython",
    "version": 3
   },
   "file_extension": ".py",
   "mimetype": "text/x-python",
   "name": "python",
   "nbconvert_exporter": "python",
   "pygments_lexer": "ipython3",
   "version": "3.7.12"
  },
  "widgets": {
   "application/vnd.jupyter.widget-state+json": {
    "state": {},
    "version_major": 2,
    "version_minor": 0
   }
  }
 },
 "nbformat": 4,
 "nbformat_minor": 2
}
