{
 "cells": [
  {
   "cell_type": "markdown",
   "metadata": {},
   "source": [
    "# Tutorial 3: Inverse Kinematics\n",
    "\n",
    "Content:\n",
    "\n",
    "    1. Answers to Tutorial 2: Forward Kinematics\n",
    "    2. Inverse Kinematics tasks"
   ]
  },
  {
   "cell_type": "markdown",
   "metadata": {},
   "source": [
    "## Answers to Tutorial 2: Forward Kinematics"
   ]
  },
  {
   "cell_type": "code",
   "execution_count": null,
   "metadata": {},
   "outputs": [],
   "source": [
    "import numpy as np\n",
    "import matplotlib.pyplot as plt\n",
    "from celluloid import Camera\n",
    "from IPython.display import HTML"
   ]
  },
  {
   "cell_type": "markdown",
   "metadata": {},
   "source": [
    "## Homogeneous Transformation Matrix\n",
    "\n",
    "One key element in deriving the kinematics of a serial-chain manipulator is the homogeneous transformation matrix. We use this matrix to conveniently group the rotation and translation of a frame into a single matrix form: \n",
    "<br/> \n",
    "<br/> \n",
    "$$\n",
    "T =\n",
    "\\left(\\begin{array}{cc}\n",
    "R & p \\\\\n",
    "0_{1x3} & 1\n",
    "\\end{array}\\right) \n",
    "=\n",
    "\\left(\\begin{array}{cc}\n",
    "r_{11} & r_{12} & r_{13} & x \\\\\n",
    "r_{21} & r_{22} & r_{23} & y \\\\\n",
    "r_{31} & r_{32} & r_{33} & z \\\\\n",
    "0 & 0 & 0 & 1\n",
    "\\end{array}\\right) \n",
    "$$\n",
    "\n",
    "<br/>\n",
    "For example, the homogeneous transform could be used when defining the the vector $^AP$ which describes a point relative to frame {A} using the known pose or transform between frames {A} to {B} and knowing the vector $^BP$."
   ]
  },
  {
   "cell_type": "markdown",
   "metadata": {},
   "source": [
    "<img src=\"images/frames.png\" style=\"width: 450px;\">"
   ]
  },
  {
   "cell_type": "markdown",
   "metadata": {},
   "source": [
    "Without our homogeneous transformation matrix, this relationship would be described as:\n",
    "<br/>\n",
    "<br/>\n",
    "<center>$^AP = {^A}R_B {^BP} + {^A}P_{BORG}$ </center>\n",
    "\n",
    "But using the transformation matrix this relationship can be concisely written as:\n",
    "<br/> \n",
    "<br/> \n",
    "<center>$$\n",
    "\\left(\\begin{array}{c}\n",
    "^AP \\\\\n",
    "1\n",
    "\\end{array}\\right) \n",
    " = {^A}T_B \n",
    "\\left(\\begin{array}{c}\n",
    "{^BP} \\\\\n",
    "1\n",
    "\\end{array}\\right) \n",
    "$$ </center>\n",
    "<br/>\n",
    "Where $^AP$ and $^BP$ are two vectors with positions known relative to frames {A} and {B} respectively.\n",
    "<br/> \n",
    "<br/> "
   ]
  },
  {
   "cell_type": "markdown",
   "metadata": {},
   "source": [
    "## 3-Link Planar Manipulator\n",
    "Below is the 3-link planar manipulator whose forward kinematics we will be implementing. The lengths of links 1, 2 and 3 are $L_1, L_2$ and $L_3$. The rotation about each of the three joints are ${\\theta}_1, {\\theta}_2$ and ${\\theta}_3$. The **link 0** is the fixed base, e.g. the ground. The **end-effector** is the manipulator attached at the end of the robot which is the black gripper, see the diagrams below."
   ]
  },
  {
   "cell_type": "markdown",
   "metadata": {},
   "source": [
    "<table>\n",
    "    <tr>\n",
    "        <td><img src=\"images/3-link-angles.png\" style=\"width: 300px;\"> </td>\n",
    "        <td><img src=\"images/3-link-frames.png\" style=\"width: 280px;\"> </td>\n",
    "    </tr>\n",
    "    <tr>\n",
    "        <td style=\"text-align:center\">Diagram of the links and joints</td>\n",
    "        <td style=\"text-align:center\">Diagram of the frames</td>\n",
    "    </tr>\n",
    "</table>"
   ]
  },
  {
   "cell_type": "markdown",
   "metadata": {},
   "source": [
    "### Tasks:\n",
    "1. Calculate the homogeneous transform matrice \n",
    "    * From frame {0} to {1} (no translation, rotation only)\n",
    "    * From frame {1} to {2}\n",
    "    * From frame {2} to {3}\n",
    "2. Then, use the homogeneous transform matrice from (1), calculate the homogeneous transform matrix from the base (frame {0}) to the end-effector.\n",
    "3. Ultimately, use the matrice from (1) and (2), implement a function that determines the x-y coordinate of each frame & the end-effector under the fixed frame {0}.\n",
    "\n",
    "The tool you may find useful: \n",
    "\n",
    "    1. The 2-D homogeneous transform matrix is in the form of:\n",
    "    \n",
    "$$\n",
    "T =\n",
    "\\left(\\begin{array}{cc}\n",
    "R & p \\\\\n",
    "0_{1x2} & 1\n",
    "\\end{array}\\right) \n",
    "=\n",
    "\\left(\\begin{array}{cc}\n",
    "r_{11} & r_{12}  & x \\\\\n",
    "r_{21} & r_{22}  & y \\\\\n",
    "0 & 0 & 1\n",
    "\\end{array}\\right) \n",
    "$$\n",
    "\n",
    "    2. The 2D rotation matrix $R$ parametrised with rotation angle $\\theta$ is defined as:\n",
    "\n",
    "$$\n",
    "R\n",
    "=\n",
    "\\left(\\begin{array}{cc}\n",
    "cos(\\theta) & -sin(\\theta) \\\\\n",
    "sin(\\theta) & cos(\\theta) \\\\\n",
    "\\end{array}\\right) \n",
    "$$\n"
   ]
  },
  {
   "cell_type": "markdown",
   "metadata": {},
   "source": [
    "### Forward Kinematics (Answers)"
   ]
  },
  {
   "cell_type": "code",
   "execution_count": null,
   "metadata": {},
   "outputs": [],
   "source": [
    "class ThreeLinkArm:\n",
    "    \n",
    "    def __init__(self):\n",
    "        # Set parameters for the 3-link planar arm\n",
    "        \n",
    "        self.theta1 = np.deg2rad(0)\n",
    "        self.theta2 = np.deg2rad(90)\n",
    "        self.theta3 = np.deg2rad(90)\n",
    "        self.l1 = 5\n",
    "        self.l2 = 3\n",
    "        self.l3 = 2\n",
    "\n",
    "    def forwardKinematics(self, theta1, theta2, theta3):\n",
    "        # Define the homogeneous transformation matrices for the 3-link planar arm\n",
    "        \n",
    "        self.theta1 = theta1\n",
    "        self.theta2 = theta2\n",
    "        self.theta3 = theta3\n",
    "\n",
    "        self.t01 = np.matrix([\n",
    "                        [np.cos(self.theta1), -np.sin(self.theta1), 0],\n",
    "                        [np.sin(self.theta1), np.cos(self.theta1), 0],\n",
    "                        [0, 0, 1]\n",
    "                    ])\n",
    "        \n",
    "        # Implement the transformation matrix from frame {1} to frame {2}\n",
    "        self.t12 = np.matrix([\n",
    "            [np.cos(self.theta2), -np.sin(self.theta2), self.l1],\n",
    "            [np.sin(self.theta2), np.cos(self.theta2), 0],\n",
    "            [0, 0, 1]\n",
    "        ])\n",
    "\n",
    "\n",
    "        self.t23 = np.matrix([[np.cos(self.theta3), -np.sin(self.theta3), self.l2],\n",
    "                        [np.sin(self.theta3), np.cos(self.theta3), 0],\n",
    "                        [0, 0, 1]])\n",
    "        \n",
    "        # Implement the transformation matrix from frame {3} to the tip of the end-effector\n",
    "        self.t3end = np.matrix([\n",
    "            [np.cos(self.theta3), -np.sin(self.theta3), self.l3],\n",
    "            [np.sin(self.theta3), np.cos(self.theta3), 0],\n",
    "            [0, 0, 1]\n",
    "        ])\n",
    "        \n",
    "        self.t0end = self.t01*self.t12*self.t23*self.t3end\n",
    "        \n",
    "        return self.t0end\n",
    "    \n",
    "    def findJointPos(self): \n",
    "        # Find the x,y position of each joint and end effector so it can be plotted\n",
    "        \n",
    "        # Find the transformation matrices for joint 2 and joint 3\n",
    "        self.t02 = self.t01*self.t12\n",
    "        self.t03 = self.t01*self.t12*self.t23\n",
    "        \n",
    "        # Find the x, y coordinates for joints 2 and 3. Put them in a list j2 = [x,y]\n",
    "        j2 = [ self.t02[0, 2], self.t02[1, 2] ]\n",
    "        j3 = [ self.t03[0, 2], self.t03[1, 2] ]\n",
    "        \n",
    "        endeff = [self.t0end[0,2],self.t0end[1,2]]\n",
    "        \n",
    "        return j2,j3,endeff\n",
    "        \n",
    "\n",
    "def plotArm(jnt2pos, jnt3pos, endEffectPos, target=None, step=None):\n",
    "    # set up figure\n",
    "    fig = plt.figure(figsize=(4,4))\n",
    "    ax = fig.add_subplot(111, autoscale_on=False,\n",
    "                         xlim=(-10, 10), ylim=(-10, 10))\n",
    "    ax.grid()\n",
    "    \n",
    "    if target is not None:\n",
    "        target = np.array(target)\n",
    "        if step is not None:\n",
    "            step = np.vstack([[endEffectPos[0], endEffectPos[1]],  step,  target])\n",
    "            step = np.array(step)\n",
    "            plt.plot(step[:, 0],step[:, 1],'ob-')\n",
    "        plt.plot(target[0],target[1],'or')\n",
    "        \n",
    "    line, = ax.plot([], [], 'o-', lw=4, mew=5)\n",
    "    time_text = ax.text(0.02, 0.95, '', transform=ax.transAxes)\n",
    "\n",
    "    line.set_data([], [])\n",
    "    time_text.set_text('')\n",
    "    x = np.array([0, jnt2pos[0], jnt3pos[0], endEffectPos[0]])\n",
    "    y = np.array([0, jnt2pos[1], jnt3pos[1], endEffectPos[1]])\n",
    "    line.set_data((x,y))\n",
    "    \n",
    "    plt.show()\n",
    "    "
   ]
  },
  {
   "cell_type": "code",
   "execution_count": null,
   "metadata": {},
   "outputs": [],
   "source": [
    "arm = ThreeLinkArm()\n",
    "\n",
    "# Do forward kinematics for a set angle on each joint\n",
    "T = arm.forwardKinematics(np.deg2rad(45),np.deg2rad(45),np.deg2rad(-45))\n",
    "\n",
    "# Find the x,y coordinates of joints 2, 3 and end effector so they can be plotted\n",
    "joint2pos, joint3pos, endEffectorPos = arm.findJointPos()\n",
    "\n",
    "# Print joint + end effector positions\n",
    "print(\"Homogeneous matrix from base to end effector: \\n\" + str(T))\n",
    "print(\"Joint 3 Coordinates: \" + str(joint3pos))\n",
    "print(\"End effector Coordinates: \" + str(endEffectorPos))\n",
    "\n",
    "# Plot the pose of the arm\n",
    "plotArm(joint2pos, joint3pos, endEffectorPos)"
   ]
  },
  {
   "cell_type": "markdown",
   "metadata": {},
   "source": [
    "---\n",
    "\n",
    "# Tutorial 3: Inverse Kinematics\n",
    "\n",
    "Welcome to Tutorial 23, where we will be looking at the Inverse Kinematics (IK). Again,\n",
    "* Forward kinematics: Finding the position and orientation of the end-effector relative to the base given the angles of all the joints.\n",
    "* Inverse kinematics: Finding the values of the joint angles given the position and orientation of the end-effector relative to the base. \n",
    "\n",
    "In this section we will be looking at the Jacobian inverse technique, a method used to solve inverse kinematics. As we saw in the previous section the forward kinematics are described with a function that maps joint angles to end-effector pose:\n",
    "<br/> \n",
    "<br/> \n",
    "$$ \\mathbf{y} = \\phi(\\boldsymbol{\\theta})$$\n",
    "<br/> \n",
    "\n",
    "For the Inverse kinematics we would like to have a function that maps the end-effector pose to joint angles:\n",
    "<br/> \n",
    "<br/> \n",
    "$$ \\boldsymbol{\\theta} = \\psi(\\mathbf{y})$$\n",
    "<br/> \n",
    "However, as $\\phi(\\cdot)$ is nonlinear, obtaining $\\psi$ is not possible. Therefore, we differentiate the forwards kinematics function:\n",
    "<br/> \n",
    "<br/> \n",
    "$$ \\frac{\\partial \\mathbf{y}}{\\partial t} = \\frac{\\partial \\phi(\\boldsymbol{\\theta})}{{\\partial t}}$$\n",
    "<br/> \n",
    "<br/> \n",
    "$$ \\frac{\\partial \\mathbf{y}}{\\partial t} = \\frac{\\partial \\phi(\\boldsymbol{\\theta})}{{\\partial \\boldsymbol{\\theta}}} \\frac{\\partial \\boldsymbol{\\theta}}{\\partial t}$$\n",
    "<br/> \n",
    "<br/> \n",
    "$$ \\dot{\\mathbf{y}} = \\frac{\\partial \\phi(\\boldsymbol{\\theta})}{{\\partial \\boldsymbol{\\theta}}} \\dot{\\boldsymbol{\\theta}}$$\n",
    "<br/> \n",
    "Compactly written as:\n",
    "<br/> \n",
    "<br/> \n",
    "$$ \\dot{\\mathbf{y}} = J \\dot{\\boldsymbol{\\theta}}$$\n",
    "<br/> \n",
    "\n",
    "Where $\\dot{y}$ is the change in end-effector position, $\\dot{\\theta}$ is the change in joint angles and $J$ is the derivative of the forward kinematics function called the Jacobian. The Jacobian matrix represents the relationship between the position of the end-effector and rotation of each joint: \n",
    "\n",
    "<br/> \n",
    "$$ J = \\frac{\\partial \\phi(\\boldsymbol{\\theta})} {{\\partial \\boldsymbol{\\theta}}} $$\n",
    "<br/> \n",
    "<br/> \n",
    "$$\n",
    "J =\n",
    "\\left(\n",
    "\\begin{array}{cc}\n",
    "\\frac{\\partial \\phi_x(\\boldsymbol{\\theta})} {{\\partial \\boldsymbol{\\theta_1}}} & \\frac{\\partial \\phi_x(\\boldsymbol{\\theta})}{{\\partial \\boldsymbol{\\theta_2}}} & \\frac{\\partial \\phi_x(\\boldsymbol{\\theta})}{{\\partial \\boldsymbol{\\theta_3}}}\\\\\n",
    "\\frac{\\partial \\phi_y(\\boldsymbol{\\theta})} {{\\partial \\boldsymbol{\\theta_1}}} & \\frac{\\partial \\phi_y(\\boldsymbol{\\theta})}{{\\partial \\boldsymbol{\\theta_2}}} & \\frac{\\partial \\phi_y(\\boldsymbol{\\theta})}{{\\partial \\boldsymbol{\\theta_3}}}\\\\\n",
    "\\frac{\\partial \\phi_z(\\boldsymbol{\\theta})} {{\\partial \\boldsymbol{\\theta_1}}} & \\frac{\\partial \\phi_z(\\boldsymbol{\\theta})}{{\\partial \\boldsymbol{\\theta_2}}} & \\frac{\\partial \\phi_z(\\boldsymbol{\\theta})}{{\\partial \\boldsymbol{\\theta_3}}}\\\\\n",
    "\\end{array}\n",
    "\\right) \n",
    "$$\n",
    "<br/> \n",
    "\n",
    "#### Once we have the Jacobian, we can obtain the differential inverse kinematics:\n",
    "$$ \\boldsymbol{\\dot{\\theta}} = J^{-1} \\dot{\\mathbf{y}} $$\n",
    "<br/> \n",
    "In most cases, the Jacobian is not symmetric, therefore the inverse of the Jacobian is not defined. So we use the **pseudo-inverse** of the Jacobian:\n",
    "\n",
    "<br/>\n",
    "$$ \\dot{\\boldsymbol{\\theta}} = J^{\\dagger} \\dot{\\mathbf{y}} $$\n",
    "<br/>\n",
    "Which tells us how changing joint angles $\\dot{\\boldsymbol{\\theta}}$ affects the change in end-effector position $\\dot{\\mathbf{y}}$. \n"
   ]
  },
  {
   "cell_type": "markdown",
   "metadata": {},
   "source": [
    "### Finding the Jacobian:\n",
    "<br/> \n",
    "<br/> \n",
    "<img src=\"images/Img-Kinematics.png\" style=\"width: 280px;\"> \n",
    "<br/> \n",
    "Where $a_i$ is the rotation axis $p_i$ is the position of the *i*th joint. \n",
    "\n",
    "#### Geometric Jacobian:\n",
    "<br/> \n",
    "<br/> \n",
    "<img src=\"images/Img-Kinematics_Jacob.png\" style=\"width: 580px;\"> \n"
   ]
  },
  {
   "cell_type": "code",
   "execution_count": null,
   "metadata": {},
   "outputs": [],
   "source": [
    "# compute the geometric Jacobian  \n",
    "def geomJacobian(jnt2pos, jnt3pos, endEffPos):\n",
    "    \n",
    "    ai = np.array([0,0,1])\n",
    "    col0 = np.array(endEffPos + [0])\n",
    "    col1 = np.array(endEffPos + [0]) - np.array(jnt2pos + [0])\n",
    "    col2 = np.array(endEffPos + [0]) - np.array(jnt3pos + [0])\n",
    "    J = np.array([np.cross(ai,col0), np.cross(ai,col1), np.cross(ai,col2)]).T \n",
    "    return J\n",
    "\n",
    "# gif animation plotter\n",
    "def plotArm2(jnt2pos, jnt3pos, endEffectPos, target=np.array([0,0]), step=np.array([0,0]), fig=None, camera=None):\n",
    "    # set up figure\n",
    "    ax = fig.add_subplot(111, autoscale_on=False,\n",
    "                         xlim=(-10, 10), ylim=(-10, 10))\n",
    "    ax.grid()\n",
    "    line, = ax.plot([], [], 'o-', lw=4, mew=5, color='lightblue')\n",
    "    time_text = ax.text(0.02, 0.95, '', transform=ax.transAxes)\n",
    "\n",
    "    line.set_data([], [])\n",
    "    time_text.set_text('')\n",
    "    x = np.array([0,\n",
    "                   jnt2pos[0],\n",
    "                   jnt3pos[0],\n",
    "                   endEffectPos[0]])\n",
    "    y = np.array([0,\n",
    "                   jnt2pos[1],\n",
    "                   jnt3pos[1],\n",
    "                   endEffectPos[1]])\n",
    "    line.set_data((x,y))\n",
    "    plt.plot(target[0],target[1],'or')\n",
    "    plt.plot(step[0],step[1],'og')\n",
    "\n",
    "    camera.snap()"
   ]
  },
  {
   "cell_type": "markdown",
   "metadata": {},
   "source": [
    "### Jacobian Iterative Inverse Kinematics Algorithm: \n",
    "<img src=\"images/Img-Kinematics_algorithm.png\" style=\"width: 700px;\"> \n",
    "<br/>\n",
    "The Jacobian inverse technique then works by iteratively computing a change in joint angles $\\delta\\boldsymbol{\\theta}$ to reduce the error between the initial and target position. \n",
    "Let's break down the task into smaller pieces:"
   ]
  },
  {
   "cell_type": "markdown",
   "metadata": {},
   "source": [
    "#### First, let's define the starting position and the target position of the end-effector"
   ]
  },
  {
   "cell_type": "code",
   "execution_count": null,
   "metadata": {},
   "outputs": [],
   "source": [
    "# Setup our new manipulator\n",
    "IK_arm = ThreeLinkArm()"
   ]
  },
  {
   "cell_type": "code",
   "execution_count": null,
   "metadata": {},
   "outputs": [],
   "source": [
    "# define the initial configuration of the manipulator (you are welcomed to try other values)\n",
    "initTheta = [np.deg2rad(45),np.deg2rad(45),np.deg2rad(-45)]\n",
    "\n",
    "# Define the target postion of the end-effector\n",
    "EF_target_pos = np.array([-3,7.5])"
   ]
  },
  {
   "cell_type": "code",
   "execution_count": null,
   "metadata": {
    "scrolled": false
   },
   "outputs": [],
   "source": [
    "# Initialise the arm with the initial values\n",
    "T = IK_arm.forwardKinematics(*initTheta)\n",
    "\n",
    "# Plot the pose of the arm\n",
    "plotArm(*IK_arm.findJointPos(), target=EF_target_pos)"
   ]
  },
  {
   "cell_type": "code",
   "execution_count": null,
   "metadata": {},
   "outputs": [],
   "source": [
    "# Get the initial end-effector position \n",
    "init_joint2pos, init_joint3pos, EF_init_pos = IK_arm.findJointPos()"
   ]
  },
  {
   "cell_type": "markdown",
   "metadata": {},
   "source": [
    "#### Now, let's interpolate the end-effector positions given the initial and final (target) end-effector positions"
   ]
  },
  {
   "cell_type": "code",
   "execution_count": null,
   "metadata": {},
   "outputs": [],
   "source": [
    "# Define the interpolation steps\n",
    "IK_steps = 10"
   ]
  },
  {
   "cell_type": "code",
   "execution_count": null,
   "metadata": {},
   "outputs": [],
   "source": [
    "# Write some code to interpolate the intermediate positions given the initial and final E-F positions.\n",
    "\n",
    "step_positions = []\n",
    "\n",
    "### START CODE HERE\n",
    "step_positions = None # fix me! Hint, have a look at np.linspace() function\n",
    "### END CODE HERE\n",
    "\n",
    "assert(len(step_positions) == IK_steps), \\\n",
    "    f\"You should have divided the total dy into {IK_steps} smaller intermediate steps\"\n",
    "\n",
    "plotArm(*IK_arm.findJointPos(), target=EF_target_pos, step=step_positions)"
   ]
  },
  {
   "cell_type": "markdown",
   "metadata": {},
   "source": [
    "#### To find the Jacobian matrix, we only need the current configuration of the robot, please use the \"geomJacobian()\" function provided above to get Jacobian matrice"
   ]
  },
  {
   "cell_type": "code",
   "execution_count": null,
   "metadata": {
    "scrolled": true
   },
   "outputs": [],
   "source": [
    "### START CODE HERE\n",
    "Jacobian_matrix = None # fix me!\n",
    "### END CODE HERE\n",
    "\n",
    "# Let's see if you have got the correct answer.\n",
    "if (np.all(Jacobian_matrix - np.array([[-7.94974747, -4.41421356, -1.41421356],\n",
    "       [ 4.94974747,  1.41421356,  1.41421356],\n",
    "       [ 0.        ,  0.        ,  0.        ]]) < 0.00001)):\n",
    "    print(\"Great! That's it!\")\n",
    "else:\n",
    "    raise Exception(\"Maybe have another look at the Jacobian matrix?\")"
   ]
  },
  {
   "cell_type": "markdown",
   "metadata": {},
   "source": [
    "### Let's get on the real tasks:\n",
    "* Fill in the missing line of the algorithm that computes the $\\delta\\boldsymbol{\\theta}$ given $\\delta \\mathbf{y}$\n",
    "* Change the number of steps and explain the behaviour of the algorithm for small number of steps $\\approx 4$"
   ]
  },
  {
   "cell_type": "code",
   "execution_count": null,
   "metadata": {
    "scrolled": false
   },
   "outputs": [],
   "source": [
    "# set the current E-F position for the IK loop\n",
    "joint2pos, joint3pos, endEffectorPos = init_joint2pos, init_joint3pos, EF_init_pos\n",
    "# set the initial robot configuration\n",
    "newTheta = initTheta\n",
    "\n",
    "# Set up the animation generator\n",
    "fig = plt.figure(figsize=(4,4))\n",
    "camera = Camera(fig)\n",
    "\n",
    "for i in range(IK_steps):\n",
    "    \n",
    "    # obtain the Jacobian, use the current joint configurations and E-F position\n",
    "    ### START CODE HERE\n",
    "    J = None # fix me!\n",
    "    ### END CODE HERE\n",
    "    \n",
    "    # compute the dy steps\n",
    "    newgoal = step_positions[i, :]\n",
    "    deltaStep = newgoal - endEffectorPos\n",
    "    \n",
    "    # define the dy\n",
    "    subtarget = np.array([deltaStep[0], deltaStep[1], 0]) \n",
    "\n",
    "    # compute dq from dy and pseudo-Jacobian\n",
    "    ### START CODE HERE\n",
    "    radTheta = None # fix me!\n",
    "    ### END CODE HERE\n",
    "    \n",
    "    # update the robot configuration\n",
    "    ### START CODE HERE\n",
    "    newTheta = None # fix me!\n",
    "    ### END CODE HERE\n",
    "    \n",
    "\n",
    "    # ----------- Do forward kinematics to plot the arm ---------------\n",
    "    # Do forward kinematics for a set angle on each joint\n",
    "    T = arm.forwardKinematics(newTheta[0],newTheta[1],newTheta[2])\n",
    "\n",
    "    # Find the x,y coordinates of joints 2, 3 and end effector so they can be plotted\n",
    "    joint2pos, joint3pos, endEffectorPos = arm.findJointPos()\n",
    "\n",
    "    # Plot the pose of the arm\n",
    "    plotArm2(joint2pos, joint3pos, endEffectorPos, EF_target_pos, newgoal, fig, camera)\n",
    "plt.close()\n",
    "animation = camera.animate()\n",
    "animation.save('animated_IK.gif', writer = 'imagemagick')\n",
    "\n",
    "# show the animation\n",
    "from IPython.display import HTML\n",
    "HTML('<img src=\"animated_IK.gif\">')\n",
    "# Ignore the warning message"
   ]
  },
  {
   "cell_type": "markdown",
   "metadata": {},
   "source": [
    "#### That's it, well done!"
   ]
  }
 ],
 "metadata": {
  "kernelspec": {
   "display_name": "Python 3",
   "language": "python",
   "name": "python3"
  },
  "language_info": {
   "codemirror_mode": {
    "name": "ipython",
    "version": 3
   },
   "file_extension": ".py",
   "mimetype": "text/x-python",
   "name": "python",
   "nbconvert_exporter": "python",
   "pygments_lexer": "ipython3",
   "version": "3.6.12"
  }
 },
 "nbformat": 4,
 "nbformat_minor": 2
}
